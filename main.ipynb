{
 "cells": [
  {
   "cell_type": "markdown",
   "metadata": {},
   "source": [
    "Uppdrag 1"
   ]
  },
  {
   "cell_type": "code",
   "execution_count": null,
   "metadata": {},
   "outputs": [],
   "source": [
    "import pandas as pd\n",
    "import matplotlib. pyplot as plt\n",
    "\n",
    "# read in the file, found a lot of NaN\n",
    "file_path = './Data/riket2023_åk9_np.xlsx'\n",
    "\n",
    "print(df.info())"
   ]
  },
  {
   "cell_type": "code",
   "execution_count": 443,
   "metadata": {},
   "outputs": [],
   "source": [
    "# a list with the name of the sheets\n",
    "sheets_to_read = ['Engelska', 'Matematik', 'Svenska', 'Svenska som andraspråk']\n",
    "\n",
    "# reads the sheets and saves them as a dictionary\n",
    "sheets_categorys = pd.read_excel(file_path, sheet_name=sheets_to_read)"
   ]
  },
  {
   "cell_type": "code",
   "execution_count": 436,
   "metadata": {},
   "outputs": [],
   "source": [
    "# a function to rename all the columns in every sheet\n",
    "def rename_all_columns(df):\n",
    "    return df.rename(columns={\n",
    "        'Unnamed: 0': 'Plats', \n",
    "        'Unnamed: 1': 'Huvudman', \n",
    "        'Unnamed: 2': 'Totalt (A-F)', \n",
    "        'Unnamed: 3': 'Flickor (A-F)', \n",
    "        'Unnamed: 4': 'Pojkar (A-F)', \n",
    "        'Unnamed: 5': 'Totalt (A-E)', \n",
    "        'Unnamed: 6': 'Flickor (A-E)', \n",
    "        'Unnamed: 7': 'Pojkar (A-E)', \n",
    "        'Unnamed: 8': 'Totalt (Poäng)', \n",
    "        'Unnamed: 9': 'Flickor (Poäng)', \n",
    "        'Unnamed: 10': 'Pojkar (Poäng)'\n",
    "    })"
   ]
  },
  {
   "cell_type": "code",
   "execution_count": null,
   "metadata": {},
   "outputs": [],
   "source": [
    "# rename every column in the DataFrame\n",
    "sheets_categorys = {sheet: rename_all_columns(df) for sheet, df in sheets_categorys.items()}\n",
    "\n",
    "# removes the NaN values in the sheets and resets the index\n",
    "sheets_removed_nulls = {sheet: df.dropna().reset_index(drop=True) for sheet, df in sheets_categorys.items()}\n",
    "\n",
    "# removes the first row and resets the index to zero\n",
    "sheets_removed_nulls = {sheet: df.iloc[1:].reset_index(drop=True) for sheet, df in sheets_removed_nulls.items()}\n",
    "\n",
    "# found a row with no values, I decided to drop it\n",
    "sheets_removed_nulls['Svenska som andraspråk'] = sheets_removed_nulls['Svenska som andraspråk'].iloc[:-1]\n",
    "\n",
    "# print to see that everything went well\n",
    "print(sheets_removed_nulls['Engelska'])"
   ]
  },
  {
   "cell_type": "code",
   "execution_count": null,
   "metadata": {},
   "outputs": [],
   "source": [
    "# tried to create different colours for every bar in the chart\n",
    "# found info on https://python-graph-gallery.com/3-control-color-of-barplots/\n",
    "\n",
    "# create a function so that I can assign teh colors\n",
    "def bar_colour(subjects_df):\n",
    "    colour_huvudman = {\n",
    "    'Skolverket' : 'red',\n",
    "    'Kommunal': 'green',\n",
    "    'Enskild': 'blue',\n",
    "    'Samtliga': 'orange'\n",
    "}\n",
    "    return[colour_huvudman.get(huvudman, 'black') for huvudman in subjects_df[\"Huvudman\"]]"
   ]
  },
  {
   "cell_type": "code",
   "execution_count": 460,
   "metadata": {},
   "outputs": [],
   "source": [
    "# group by to calculate the sum for each subject\n",
    "tot_poin_english = sheets_removed_nulls['Engelska'].groupby('Huvudman')['Totalt (Poäng)'].sum().reset_index(name='Totalt (Poäng)')\n",
    "tot_poin_math = sheets_removed_nulls['Matematik'].groupby('Huvudman')['Totalt (Poäng)'].sum().reset_index(name='Totalt (Poäng)')\n",
    "tot_poin_swedish = sheets_removed_nulls['Svenska'].groupby('Huvudman')['Totalt (Poäng)'].sum().reset_index(name='Totalt (Poäng)')\n",
    "tot_poin_swedish_second= sheets_removed_nulls['Svenska som andraspråk'].groupby('Huvudman')['Totalt (Poäng)'].sum().reset_index(name='Totalt (Poäng)')"
   ]
  },
  {
   "cell_type": "code",
   "execution_count": null,
   "metadata": {},
   "outputs": [],
   "source": [
    "# plot the barchart, need to use subplots \n",
    "# categorys = the different subjects for the total points in the total subjects\n",
    "# english, swedish, maths and swedish as second language\n",
    "fig, axs = plt.subplots(1, 4, dpi = 120, figsize =(15, 4))\n",
    "\n",
    "# main title\n",
    "fig.suptitle(\"Totala poäng för huvudämnena\", fontsize=15) \n",
    "\n",
    "# first plot, english\n",
    "axs[0].bar(tot_poin_english['Huvudman'], \n",
    "    tot_poin_english['Totalt (Poäng)'],\n",
    "    color = bar_colour((sheets_removed_nulls['Engelska']))\n",
    ")\n",
    "axs[0].set_title(\"Engelska\", fontsize = 10)\n",
    "axs[0].set_xticks([0,1,2,3])\n",
    "axs[0].tick_params(axis='x', rotation=90)\n",
    "\n",
    "# second plot, math\n",
    "axs[1].bar(tot_poin_math['Huvudman'], \n",
    "    tot_poin_math['Totalt (Poäng)'],\n",
    "    color = bar_colour((sheets_removed_nulls['Matematik']))\n",
    ")\n",
    "axs[1].set_title(\"Matematik\", fontsize = 10)\n",
    "axs[1].set_xticks([0,1,2,3])\n",
    "axs[1].tick_params(axis='x', rotation=90)\n",
    "\n",
    "# third plot for swedish\n",
    "axs[2].bar(tot_poin_swedish['Huvudman'], \n",
    "    tot_poin_swedish['Totalt (Poäng)'],\n",
    "    color = bar_colour((sheets_removed_nulls['Svenska']))\n",
    ")\n",
    "axs[2].set_title(\"Svenska\", fontsize = 10)\n",
    "axs[2].set_xticks([0,1,2,3])\n",
    "axs[2].tick_params(axis='x', rotation=90)\n",
    "\n",
    "# fourth plot for swedish as second language\n",
    "axs[3].bar(tot_poin_swedish_second['Huvudman'], \n",
    "    tot_poin_swedish_second['Totalt (Poäng)'],\n",
    "    color = bar_colour((sheets_removed_nulls['Svenska som andraspråk']))\n",
    ")\n",
    "axs[3].set_title(\"Svenska som andraspråk\", fontsize = 10)\n",
    "axs[3].set_xticks([0,1,2,3])\n",
    "axs[3].tick_params(axis='x', rotation=90)\n",
    "\n",
    "plt.show()"
   ]
  },
  {
   "cell_type": "markdown",
   "metadata": {},
   "source": [
    "Uppgift 2"
   ]
  },
  {
   "cell_type": "code",
   "execution_count": null,
   "metadata": {},
   "outputs": [],
   "source": []
  }
 ],
 "metadata": {
  "kernelspec": {
   "display_name": ".venv",
   "language": "python",
   "name": "python3"
  },
  "language_info": {
   "codemirror_mode": {
    "name": "ipython",
    "version": 3
   },
   "file_extension": ".py",
   "mimetype": "text/x-python",
   "name": "python",
   "nbconvert_exporter": "python",
   "pygments_lexer": "ipython3",
   "version": "3.13.1"
  }
 },
 "nbformat": 4,
 "nbformat_minor": 2
}
