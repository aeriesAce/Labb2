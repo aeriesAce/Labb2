{
 "cells": [
  {
   "cell_type": "markdown",
   "metadata": {},
   "source": [
    "Uppdrag 1"
   ]
  },
  {
   "cell_type": "code",
   "execution_count": 385,
   "metadata": {},
   "outputs": [],
   "source": [
    "import pandas as pd\n",
    "import matplotlib.pyplot as plt\n",
    "import numpy as np\n",
    "import plotly.express as px \n",
    "\n",
    "# read in the file, found a lot of NaN\n",
    "df_file = './Data/riket2023_åk9_np.xlsx'\n",
    "\n",
    "# reads all sheets into a sictionary of DataFrames\n",
    "# got information on https://www.geeksforgeeks.org/how-to-read-excel-multiple-sheets-in-python-pandas/\n",
    "# skipped all NAN rows with setting the header to 8\n",
    "df_sheets = pd.read_excel(df_file, header = 8, sheet_name=None)\n",
    "sheets = ['Engelska', 'Matematik', 'Svenska', 'Svenska som andraspråk']"
   ]
  },
  {
   "cell_type": "code",
   "execution_count": null,
   "metadata": {},
   "outputs": [],
   "source": [
    "# rename all the columns\n",
    "df_sheets = {\n",
    "    sheet: df.rename(columns={\n",
    "        'Riket': 'Plats',\n",
    "        'Typ av huvudman': 'Huvudman',\n",
    "        'Totalt': 'Totalt (A-F)',\n",
    "        'Flickor': 'Flickor (A-F)',\n",
    "        'Pojkar': 'Pojkar (A-F)',\n",
    "        'Totalt ': 'Totalt (A-E)',\n",
    "        'Flickor ': 'Flickor (A-E)',\n",
    "        'Pojkar ': 'Pojkar (A-E)',\n",
    "        'Totalt  ': 'Totalt (Poäng)',\n",
    "        'Flickor  ': 'Flickor (Poäng)',\n",
    "        'Pojkar  ': 'Pojkar (Poäng)'\n",
    "    }) for sheet, df in df_sheets.items()\n",
    "}\n",
    "\n",
    "# Kontrollera info för Engelska\n",
    "df_sheets[\"Engelska\"].info()\n"
   ]
  },
  {
   "cell_type": "code",
   "execution_count": 387,
   "metadata": {},
   "outputs": [],
   "source": [
    "# tried to create different colours for every bar in the chart\n",
    "# found info on https://python-graph-gallery.com/3-control-color-of-barplots/\n",
    "\n",
    "# create a function so that I can assign the colors\n",
    "def bar_colour(subjects_df):\n",
    "    colour_huvudman = {\n",
    "    'Skolverket' : 'purple',\n",
    "    'Kommunal': 'green',\n",
    "    'Enskild': 'blue',\n",
    "    'Samtliga': 'orange'\n",
    "}\n",
    "    return[colour_huvudman.get(huvudman, 'black') for huvudman in subjects_df[\"Huvudman\"]]"
   ]
  },
  {
   "cell_type": "code",
   "execution_count": null,
   "metadata": {},
   "outputs": [],
   "source": [
    "# since \"Svenska som andraspråk\" only contains two \"..\" need to convert to NaN\n",
    "# with replace, then fill the column with 0 so it will look better in the chart\n",
    "df_sheets[\"Svenska som andraspråk\"][\"Totalt (Poäng)\"] = df_sheets[\"Svenska som andraspråk\"][\"Totalt (Poäng)\"].replace(\"..\", np.nan)\n",
    "df_sheets[\"Svenska som andraspråk\"][\"Totalt (Poäng)\"] = df_sheets[\"Svenska som andraspråk\"][\"Totalt (Poäng)\"].fillna(0)"
   ]
  },
  {
   "cell_type": "code",
   "execution_count": null,
   "metadata": {},
   "outputs": [],
   "source": [
    "# plot the barchart, need to use subplots \n",
    "# categorys = the different subjects for the total points in the total subjects\n",
    "# english, swedish, maths and swedish as second language\n",
    "fig, axs = plt.subplots(1, 4, dpi = 120, figsize =(15, 4))\n",
    "\n",
    "# main title\n",
    "fig.suptitle(\"Totala poäng för huvudmännen\", fontsize=15) \n",
    "\n",
    "# first plot, english\n",
    "axs[0].bar(df_sheets[\"Engelska\"]['Huvudman'], \n",
    "    df_sheets[\"Engelska\"]['Totalt (Poäng)'],\n",
    "    color = bar_colour(df_sheets[\"Engelska\"])\n",
    ")\n",
    "axs[0].set_title(\"Engelska\", fontsize = 10)\n",
    "axs[0].set_xticks([0,1,2,3])\n",
    "axs[0].tick_params(axis='x', rotation=90)\n",
    "\n",
    "# second plot, math\n",
    "axs[1].bar(df_sheets[\"Matematik\"]['Huvudman'], \n",
    "    df_sheets[\"Matematik\"]['Totalt (Poäng)'],\n",
    "    color = bar_colour(df_sheets[\"Engelska\"])\n",
    ")\n",
    "axs[1].set_title(\"Matematik\", fontsize = 10)\n",
    "axs[1].set_xticks([0,1,2,3])\n",
    "axs[1].tick_params(axis='x', rotation=90)\n",
    "\n",
    "# third plot for swedish\n",
    "axs[2].bar(df_sheets[\"Svenska\"]['Huvudman'], \n",
    "    df_sheets[\"Svenska\"]['Totalt (Poäng)'],\n",
    "    color = bar_colour(df_sheets[\"Engelska\"])\n",
    ")\n",
    "axs[2].set_title(\"Svenska\", fontsize = 10)\n",
    "axs[2].set_xticks([0,1,2,3])\n",
    "axs[2].tick_params(axis='x', rotation=90)\n",
    "\n",
    "# fourth plot for swedish as second language\n",
    "axs[3].bar(df_sheets[\"Svenska som andraspråk\"]['Huvudman'], \n",
    "    df_sheets[\"Svenska som andraspråk\"]['Totalt (Poäng)'],\n",
    "    color = bar_colour(df_sheets[\"Engelska\"])\n",
    ")\n",
    "axs[3].set_title(\"Svenska som andraspråk\", fontsize = 10)\n",
    "axs[3].set_xticks([0,1,2,3])\n",
    "axs[3].tick_params(axis='x', rotation=90)\n",
    "\n",
    "plt.savefig(\"Visualiseringar/Uppgift_1.png\")\n",
    "plt.show()"
   ]
  },
  {
   "cell_type": "markdown",
   "metadata": {},
   "source": [
    "Uppgift 2"
   ]
  },
  {
   "cell_type": "code",
   "execution_count": null,
   "metadata": {},
   "outputs": [],
   "source": [
    "# read in the specific Tabell from the excel file\n",
    "# lots of NaN values\n",
    "df_tabell_sheet = pd.read_excel(\"./Data/betyg_o_prov_riksnivå.xlsx\", header= 7, sheet_name=\"Tabell 1B\")\n",
    "df_tabell_sheet.head()"
   ]
  },
  {
   "cell_type": "code",
   "execution_count": null,
   "metadata": {},
   "outputs": [],
   "source": [
    "# let's rename the columns first\n",
    "df_tabell_sheet.rename(columns ={\n",
    "        'Unnamed: 0': 'Kategorier',\n",
    "        'Totalt': 'Totalt (16 Ämnen)', \n",
    "        'Flickor': 'Flickor (16 Ämnen)', \n",
    "        'Pojkar': 'Pojkar (16 Ämnen)', \n",
    "        'Totalt.1': 'Totalt (17 Ämnen)', \n",
    "        'Flickor.1': 'Flickor (17 Ämnen)', \n",
    "        'Pojkar.1': 'Pojkar (17 Ämnen)', \n",
    "        'Totalt.2': 'Total (%)', \n",
    "        'Flickor.2': 'Flickor (%)', \n",
    "        'Pojkar.2': 'Pojkar (%)', \n",
    "    }, inplace = True)\n",
    "\n",
    "df_tabell_sheet.head()"
   ]
  },
  {
   "cell_type": "code",
   "execution_count": 392,
   "metadata": {},
   "outputs": [],
   "source": [
    "# filter out the years from the Kategori tabell\n",
    "# I use the isin() method to choose the rows based on multiple values\n",
    "# got info on https://www.w3schools.com/python/pandas/ref_df_isin.asp\n",
    "df_years_filtered = df_tabell_sheet.loc[df_tabell_sheet['Kategorier'].isin(['2018/19', '2019/20', '2020/21',\n",
    "       '2021/22', '2022/23'])]"
   ]
  },
  {
   "cell_type": "code",
   "execution_count": null,
   "metadata": {},
   "outputs": [],
   "source": [
    "# plotly line diagram for students with no passing grade\n",
    "# found info on https://plotly.com/python/plotly-express/\n",
    "fig = px.line(df_years_filtered , \n",
    "            x = \"Kategorier\", \n",
    "            y = [\"Total (%)\", \"Flickor (%)\", \"Pojkar (%)\"], \n",
    "            title = \"Andel elever som saknar godkänt betyg\",\n",
    "            labels = {\"value\": \"Andel (%)\", \"variable\": \"Kategorier\", \"Kategorier\": \"Läsår\"}, \n",
    "            line_shape=\"spline\", render_mode=\"svg\", \n",
    "            markers = True)\n",
    "\n",
    "fig.write_html(\"Visualiseringar/Uppgift_2a.html\")\n",
    "fig.show() "
   ]
  },
  {
   "cell_type": "code",
   "execution_count": null,
   "metadata": {},
   "outputs": [],
   "source": [
    "# plotly diagram for meritvärde för 16 ämnen, for pojkar, flickor och totalt\n",
    "fig = px.line(df_years_filtered , x = \"Kategorier\", y = [\"Totalt (16 Ämnen)\", \"Flickor (16 Ämnen)\", \"Pojkar (16 Ämnen)\"], \n",
    "title = \"Meritvärde för 16 ämnen\",\n",
    "labels = {\"value\": \"Meritvärde\", \"variable\": \"Kategorier\", \"Kategorier\": \"Läsår\",}, \n",
    "line_shape=\"spline\", \n",
    "render_mode=\"svg\",\n",
    "markers = True)\n",
    "\n",
    "fig.write_html(\"Visualiseringar/Uppgift_2b.html\")\n",
    "fig.show()"
   ]
  },
  {
   "cell_type": "markdown",
   "metadata": {},
   "source": [
    "Bonus"
   ]
  },
  {
   "cell_type": "code",
   "execution_count": 395,
   "metadata": {},
   "outputs": [],
   "source": [
    "df_huvudman_data = df_tabell_sheet[df_tabell_sheet['Kategorier'].isin(['Kommun', 'Enskild'])]"
   ]
  },
  {
   "cell_type": "code",
   "execution_count": null,
   "metadata": {},
   "outputs": [],
   "source": [
    "# bar chart for the Huvudman\n",
    "fig = px.bar(df_huvudman_data, \n",
    "            x = \"Kategorier\", \n",
    "            y=[\"Total (%)\", \"Flickor (%)\", \"Pojkar (%)\"], \n",
    "            title=\"Andel elever som saknar godkänt betyg\",\n",
    "            labels={\"value\": \"Andel %\", \"variable\": \"Kategorier\", \"Kategorier\": \"Huvudman\"},\n",
    "            barmode = 'group')\n",
    "\n",
    "fig.write_html(\"Visualiseringar/Uppgift_2c_1.html\")\n",
    "fig.show()"
   ]
  },
  {
   "cell_type": "code",
   "execution_count": 397,
   "metadata": {},
   "outputs": [],
   "source": [
    "df_background_data = df_tabell_sheet[df_tabell_sheet['Kategorier'].isin(['Elever med svensk bakgrund', 'Elever med utländsk bakgrund'])]"
   ]
  },
  {
   "cell_type": "code",
   "execution_count": null,
   "metadata": {},
   "outputs": [],
   "source": [
    " # a bar chart for students backgrounds\n",
    "fig = px.bar(df_background_data, \n",
    "x = \"Kategorier\", \n",
    "y = [\"Totalt (17 Ämnen)\", \"Flickor (17 Ämnen)\", \"Pojkar (17 Ämnen)\"], \n",
    "title = \"Meritvärde för 17 ämnen baserat på elevers bakgrund\",\n",
    "labels = {\"value\": \"Meritvärde\", \"variable\": \"Kategorier\", \"Kategorier\": \"\"}, \n",
    "barmode = 'group')\n",
    "\n",
    "fig.write_html(\"Visualiseringar/Uppgift_2c_2.html\")\n",
    "fig.show()"
   ]
  },
  {
   "cell_type": "code",
   "execution_count": 399,
   "metadata": {},
   "outputs": [],
   "source": [
    "df_parents_data = df_tabell_sheet[df_tabell_sheet['Kategorier'].isin(['Förgymnasial utbildning', 'Gymnasial utbildning', 'Eftergymnasial utbildning'])]"
   ]
  },
  {
   "cell_type": "code",
   "execution_count": null,
   "metadata": {},
   "outputs": [],
   "source": [
    "# a bar char on the parents education\n",
    "fig = px.bar(df_parents_data,\n",
    "x = \"Kategorier\", \n",
    "y = [\"Totalt (16 Ämnen)\", \"Flickor (16 Ämnen)\", \"Pojkar (16 Ämnen)\"], \n",
    "title = \"Meritvärde för 16 ämnen baserat på föräldrarnas utbildning\",\n",
    "labels = {\"value\": \"Meritvärde\", \"variable\": \"Kategorier\", \"Kategorier\": \"Utbildning\"}, \n",
    "barmode = 'group')\n",
    "\n",
    "fig.write_html(\"Visualiseringar/Uppgift_2c_3.html\")\n",
    "fig.show()"
   ]
  }
 ],
 "metadata": {
  "kernelspec": {
   "display_name": ".venv",
   "language": "python",
   "name": "python3"
  },
  "language_info": {
   "codemirror_mode": {
    "name": "ipython",
    "version": 3
   },
   "file_extension": ".py",
   "mimetype": "text/x-python",
   "name": "python",
   "nbconvert_exporter": "python",
   "pygments_lexer": "ipython3",
   "version": "3.13.1"
  }
 },
 "nbformat": 4,
 "nbformat_minor": 2
}
