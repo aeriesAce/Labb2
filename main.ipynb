{
 "cells": [
  {
   "cell_type": "markdown",
   "metadata": {},
   "source": [
    "Uppdrag 1"
   ]
  },
  {
   "cell_type": "code",
   "execution_count": null,
   "metadata": {},
   "outputs": [],
   "source": [
    "import pandas as pd\n",
    "import matplotlib.pyplot as plt\n",
    "import numpy as np\n",
    "import plotly.express as px \n",
    "\n",
    "# read in the file, found a lot of NaN\n",
    "df_file = './Data/riket2023_åk9_np.xlsx'\n",
    "\n",
    "# reads all sheets into a sictionary of DataFrames\n",
    "# got information on https://www.geeksforgeeks.org/how-to-read-excel-multiple-sheets-in-python-pandas/\n",
    "df_sheets = pd.read_excel(df_file, sheet_name=None)\n",
    "sheets = ['Engelska', 'Matematik', 'Svenska', 'Svenska som andraspråk']\n",
    "\n",
    "# a dictionary to save the cleaned sheets\n",
    "cleaned_data = {}\n",
    "\n",
    "df_sheets[\"Engelska\"].head(10)"
   ]
  },
  {
   "cell_type": "code",
   "execution_count": 155,
   "metadata": {},
   "outputs": [],
   "source": [
    "# I think I made a mistake in reading in the sheets, cause row 7 kept coming up\n",
    "# and I couldn't use skiprows cause then the columns did not read in correctly\n",
    "# so I decided to remove it instead\n",
    "for sheet in sheets:\n",
    "    df_sheets[sheet] = df_sheets[sheet].drop(index=7)"
   ]
  },
  {
   "cell_type": "code",
   "execution_count": 156,
   "metadata": {},
   "outputs": [],
   "source": [
    "# a function to rename all the columns in every sheet\n",
    "def rename_all_columns(df):\n",
    "    return df.rename(columns={\n",
    "        'Unnamed: 0': 'Plats', \n",
    "        'Unnamed: 1': 'Huvudman', \n",
    "        'Unnamed: 2': 'Totalt (A-F)', \n",
    "        'Unnamed: 3': 'Flickor (A-F)', \n",
    "        'Unnamed: 4': 'Pojkar (A-F)', \n",
    "        'Unnamed: 5': 'Totalt (A-E)', \n",
    "        'Unnamed: 6': 'Flickor (A-E)', \n",
    "        'Unnamed: 7': 'Pojkar (A-E)', \n",
    "        'Unnamed: 8': 'Totalt (Poäng)', \n",
    "        'Unnamed: 9': 'Flickor (Poäng)', \n",
    "        'Unnamed: 10': 'Pojkar (Poäng)'\n",
    "    })"
   ]
  },
  {
   "cell_type": "code",
   "execution_count": null,
   "metadata": {},
   "outputs": [],
   "source": [
    "# rename the sheets with the function\n",
    "# using a for loop to go through all sheets\n",
    "for s in sheets:\n",
    "    sheet = df_sheets[s]\n",
    "    sheet = rename_all_columns(sheet)\n",
    "    cleaned_data[s] = sheet\n",
    "\n",
    "cleaned_data[\"Engelska\"].info()"
   ]
  },
  {
   "cell_type": "code",
   "execution_count": 158,
   "metadata": {},
   "outputs": [],
   "source": [
    "# remove the NaNs from each sheet\n",
    "for d in sheets:\n",
    "    cleaned_data[d] = cleaned_data[d].dropna()"
   ]
  },
  {
   "cell_type": "code",
   "execution_count": null,
   "metadata": {},
   "outputs": [],
   "source": [
    "# group huvudman and totalt (poäng) to use sum to calculate the total sum of poäng\n",
    "# first a dictionary to save the grouped data\n",
    "group_sheets = {}\n",
    "\n",
    "for g in sheets:\n",
    "    group_sheets[g] = cleaned_data[g].groupby([\"Huvudman\"]).agg({\"Totalt (Poäng)\": \"sum\"}).reset_index()\n",
    "\n",
    "group_sheets[\"Svenska som andraspråk\"].head()"
   ]
  },
  {
   "cell_type": "code",
   "execution_count": 160,
   "metadata": {},
   "outputs": [],
   "source": [
    "# get the DataFrame from each subject from the dictionary\n",
    "df_english = group_sheets[\"Engelska\"] \n",
    "df_math = group_sheets[\"Matematik\"]\n",
    "df_swedish = group_sheets[\"Svenska\"] \n",
    "df_swedish_two = group_sheets[\"Svenska som andraspråk\"]"
   ]
  },
  {
   "cell_type": "code",
   "execution_count": null,
   "metadata": {},
   "outputs": [],
   "source": [
    "# since \"Svenska som andraspråk\" only contains two \"..\" I need to convert to NaN\n",
    "# with replace\n",
    "df_swedish_two[\"Totalt (Poäng)\"] = df_swedish_two[\"Totalt (Poäng)\"].replace(\"..\", np.nan)"
   ]
  },
  {
   "cell_type": "code",
   "execution_count": 162,
   "metadata": {},
   "outputs": [],
   "source": [
    "# tried to create different colours for every bar in the chart\n",
    "# found info on https://python-graph-gallery.com/3-control-color-of-barplots/\n",
    "\n",
    "# create a function so that I can assign teh colors\n",
    "def bar_colour(subjects_df):\n",
    "    colour_huvudman = {\n",
    "    'Skolverket' : 'purple',\n",
    "    'Kommunal': 'green',\n",
    "    'Enskild': 'blue',\n",
    "    'Samtliga': 'orange'\n",
    "}\n",
    "    return[colour_huvudman.get(huvudman, 'black') for huvudman in subjects_df[\"Huvudman\"]]"
   ]
  },
  {
   "cell_type": "code",
   "execution_count": null,
   "metadata": {},
   "outputs": [],
   "source": [
    "# plot the barchart, need to use subplots \n",
    "# categorys = the different subjects for the total points in the total subjects\n",
    "# english, swedish, maths and swedish as second language\n",
    "fig, axs = plt.subplots(1, 4, dpi = 120, figsize =(15, 4))\n",
    "\n",
    "# main title\n",
    "fig.suptitle(\"Totala poäng för huvudmännen\", fontsize=15) \n",
    "\n",
    "# first plot, english\n",
    "axs[0].bar(df_english['Huvudman'], \n",
    "    df_english['Totalt (Poäng)'],\n",
    "    color = bar_colour(df_english)\n",
    ")\n",
    "axs[0].set_title(\"Engelska\", fontsize = 10)\n",
    "axs[0].set_xticks([0,1,2,3])\n",
    "axs[0].tick_params(axis='x', rotation=90)\n",
    "\n",
    "# second plot, math\n",
    "axs[1].bar(df_math['Huvudman'], \n",
    "    df_math['Totalt (Poäng)'],\n",
    "    color = bar_colour(df_math)\n",
    ")\n",
    "axs[1].set_title(\"Matematik\", fontsize = 10)\n",
    "axs[1].set_xticks([0,1,2,3])\n",
    "axs[1].tick_params(axis='x', rotation=90)\n",
    "\n",
    "# third plot for swedish\n",
    "axs[2].bar(df_swedish['Huvudman'], \n",
    "    df_swedish['Totalt (Poäng)'],\n",
    "    color = bar_colour(df_swedish)\n",
    ")\n",
    "axs[2].set_title(\"Svenska\", fontsize = 10)\n",
    "axs[2].set_xticks([0,1,2,3])\n",
    "axs[2].tick_params(axis='x', rotation=90)\n",
    "\n",
    "# fourth plot for swedish as second language\n",
    "axs[3].bar(df_swedish_two['Huvudman'], \n",
    "    df_swedish_two['Totalt (Poäng)'].fillna(0),\n",
    "    color = bar_colour(df_swedish_two)\n",
    ")\n",
    "axs[3].set_title(\"Svenska som andraspråk\", fontsize = 10)\n",
    "axs[3].set_xticks([0,1,2,3])\n",
    "axs[3].tick_params(axis='x', rotation=90)\n",
    "\n",
    "plt.show()"
   ]
  },
  {
   "cell_type": "markdown",
   "metadata": {},
   "source": [
    "Uppgift 2"
   ]
  },
  {
   "cell_type": "code",
   "execution_count": 3,
   "metadata": {},
   "outputs": [],
   "source": [
    "# read in the specific Tabell from the excel file\n",
    "# lots of NaN values\n",
    "df_tabell_sheet = pd.read_excel(\"./Data/betyg_o_prov_riksnivå.xlsx\", sheet_name=\"Tabell 1B\")"
   ]
  },
  {
   "cell_type": "code",
   "execution_count": null,
   "metadata": {},
   "outputs": [],
   "source": [
    "# let's rename the columns first\n",
    "df_tabell_sheet = df_tabell_sheet.rename(columns ={\n",
    "        'Unnamed: 1': 'Totalt (16 Ämnen)', \n",
    "        'Unnamed: 2': 'Flickor (16 Ämnen)', \n",
    "        'Unnamed: 3': 'Pojkar (16 Ämnen)', \n",
    "        'Unnamed: 4': 'Totalt (17 Ämnen)', \n",
    "        'Unnamed: 5': 'Flickor (17 Ämnen)', \n",
    "        'Unnamed: 6': 'Pojkar (17 Ämnen)', \n",
    "        'Unnamed: 7': 'Total (%)', \n",
    "        'Unnamed: 8': 'Flickor (%)', \n",
    "        'Unnamed: 9': 'Pojkar (%)', \n",
    "    })\n",
    "\n",
    "df_tabell_sheet.info()"
   ]
  },
  {
   "cell_type": "code",
   "execution_count": 5,
   "metadata": {},
   "outputs": [],
   "source": [
    "# need to add Läsår to the column list\n",
    "df_tabell_sheet[\"Läsår\"] = df_tabell_sheet.iloc[7:13, 0].astype(str)"
   ]
  },
  {
   "cell_type": "code",
   "execution_count": null,
   "metadata": {},
   "outputs": [],
   "source": [
    "# clean the data\n",
    "df_cleaned_data = df_tabell_sheet.dropna()\n",
    "\n",
    "df_cleaned_data.isnull().sum()"
   ]
  },
  {
   "cell_type": "code",
   "execution_count": null,
   "metadata": {},
   "outputs": [],
   "source": [
    "# plotly line diagram for students with no passing grade\n",
    "# found some fun plotting types on https://plotly.com/python/plotly-express/\n",
    "fig = px.line(df_cleaned_data , x = \"Läsår\", y = [\"Total (%)\", \"Flickor (%)\", \"Pojkar (%)\"], \n",
    "title = \"Andel elever som saknar godkänt betyg\",\n",
    "labels = {\"value\": \"Andel (%)\", \"variable\": \"\",}, line_shape=\"spline\", render_mode=\"svg\", markers = True)\n",
    "fig.show() "
   ]
  },
  {
   "cell_type": "code",
   "execution_count": null,
   "metadata": {},
   "outputs": [],
   "source": [
    "  # plotly diagram for meritvärde för 16 ämnen, for pojkar, flickor och totalt\n",
    "fig = px.line(df_cleaned_data , x = \"Läsår\", y = [\"Totalt (16 Ämnen)\", \"Flickor (16 Ämnen)\", \"Pojkar (16 Ämnen)\"], \n",
    "title = \"Meritvärde för 16 ämnen\",\n",
    "labels = {\"value\": \"Ämnen\", \"variable\": \"\",}, line_shape=\"spline\", render_mode=\"svg\", markers = True)\n",
    "fig.show()"
   ]
  }
 ],
 "metadata": {
  "kernelspec": {
   "display_name": ".venv",
   "language": "python",
   "name": "python3"
  },
  "language_info": {
   "codemirror_mode": {
    "name": "ipython",
    "version": 3
   },
   "file_extension": ".py",
   "mimetype": "text/x-python",
   "name": "python",
   "nbconvert_exporter": "python",
   "pygments_lexer": "ipython3",
   "version": "3.13.1"
  }
 },
 "nbformat": 4,
 "nbformat_minor": 2
}
